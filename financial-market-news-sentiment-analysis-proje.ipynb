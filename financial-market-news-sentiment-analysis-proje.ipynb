{
 "cells": [
  {
   "cell_type": "code",
   "execution_count": 1,
   "id": "426831ea",
   "metadata": {
    "execution": {
     "iopub.execute_input": "2023-07-15T09:28:03.864125Z",
     "iopub.status.busy": "2023-07-15T09:28:03.863696Z",
     "iopub.status.idle": "2023-07-15T09:28:03.875519Z",
     "shell.execute_reply": "2023-07-15T09:28:03.874400Z"
    },
    "papermill": {
     "duration": 0.024532,
     "end_time": "2023-07-15T09:28:03.878080",
     "exception": false,
     "start_time": "2023-07-15T09:28:03.853548",
     "status": "completed"
    },
    "tags": []
   },
   "outputs": [],
   "source": [
    "import pandas as pd\n",
    "import numpy as np"
   ]
  },
  {
   "cell_type": "code",
   "execution_count": 2,
   "id": "8cc8ad40",
   "metadata": {
    "execution": {
     "iopub.execute_input": "2023-07-15T09:28:03.896412Z",
     "iopub.status.busy": "2023-07-15T09:28:03.896007Z",
     "iopub.status.idle": "2023-07-15T09:28:04.933542Z",
     "shell.execute_reply": "2023-07-15T09:28:04.932335Z"
    },
    "papermill": {
     "duration": 1.050306,
     "end_time": "2023-07-15T09:28:04.936450",
     "exception": false,
     "start_time": "2023-07-15T09:28:03.886144",
     "status": "completed"
    },
    "tags": []
   },
   "outputs": [],
   "source": [
    "df = pd.read_csv ('https://github.com/YBI-Foundation/Dataset/raw/main/Financial%20Market%20News.csv',encoding = \"ISO-8859-1\")"
   ]
  },
  {
   "cell_type": "code",
   "execution_count": 3,
   "id": "6a820eea",
   "metadata": {
    "execution": {
     "iopub.execute_input": "2023-07-15T09:28:04.954411Z",
     "iopub.status.busy": "2023-07-15T09:28:04.953990Z",
     "iopub.status.idle": "2023-07-15T09:28:04.994234Z",
     "shell.execute_reply": "2023-07-15T09:28:04.992833Z"
    },
    "papermill": {
     "duration": 0.052595,
     "end_time": "2023-07-15T09:28:04.997175",
     "exception": false,
     "start_time": "2023-07-15T09:28:04.944580",
     "status": "completed"
    },
    "tags": []
   },
   "outputs": [
    {
     "data": {
      "text/html": [
       "<div>\n",
       "<style scoped>\n",
       "    .dataframe tbody tr th:only-of-type {\n",
       "        vertical-align: middle;\n",
       "    }\n",
       "\n",
       "    .dataframe tbody tr th {\n",
       "        vertical-align: top;\n",
       "    }\n",
       "\n",
       "    .dataframe thead th {\n",
       "        text-align: right;\n",
       "    }\n",
       "</style>\n",
       "<table border=\"1\" class=\"dataframe\">\n",
       "  <thead>\n",
       "    <tr style=\"text-align: right;\">\n",
       "      <th></th>\n",
       "      <th>Date</th>\n",
       "      <th>Label</th>\n",
       "      <th>News 1</th>\n",
       "      <th>News 2</th>\n",
       "      <th>News 3</th>\n",
       "      <th>News 4</th>\n",
       "      <th>News 5</th>\n",
       "      <th>News 6</th>\n",
       "      <th>News 7</th>\n",
       "      <th>News 8</th>\n",
       "      <th>...</th>\n",
       "      <th>News 16</th>\n",
       "      <th>News 17</th>\n",
       "      <th>News 18</th>\n",
       "      <th>News 19</th>\n",
       "      <th>News 20</th>\n",
       "      <th>News 21</th>\n",
       "      <th>News 22</th>\n",
       "      <th>News 23</th>\n",
       "      <th>News 24</th>\n",
       "      <th>News 25</th>\n",
       "    </tr>\n",
       "  </thead>\n",
       "  <tbody>\n",
       "    <tr>\n",
       "      <th>0</th>\n",
       "      <td>01-01-2010</td>\n",
       "      <td>0</td>\n",
       "      <td>McIlroy's men catch cold from Gudjonsson</td>\n",
       "      <td>Obituary: Brian Walsh</td>\n",
       "      <td>Workplace blues leave employers in the red</td>\n",
       "      <td>Classical review: Rattle</td>\n",
       "      <td>Dance review: Merce Cunningham</td>\n",
       "      <td>Genetic tests to be used in setting premiums</td>\n",
       "      <td>Opera review: La Bohème</td>\n",
       "      <td>Pop review: Britney Spears</td>\n",
       "      <td>...</td>\n",
       "      <td>Finland 0 - 0 England</td>\n",
       "      <td>Healy a marked man</td>\n",
       "      <td>Happy birthday Harpers &amp; Queen</td>\n",
       "      <td>Win unlimited access to the Raindance film fes...</td>\n",
       "      <td>Labour pledges £800m to bridge north-south divide</td>\n",
       "      <td>Wales: Lib-Lab pact firm despite resignation</td>\n",
       "      <td>Donald Dewar</td>\n",
       "      <td>Regenerating homes  regenerates well-being in ...</td>\n",
       "      <td>Win £100 worth of underwear</td>\n",
       "      <td>TV guide: Random views</td>\n",
       "    </tr>\n",
       "    <tr>\n",
       "      <th>1</th>\n",
       "      <td>02-01-2010</td>\n",
       "      <td>0</td>\n",
       "      <td>Warning from history points to crash</td>\n",
       "      <td>Investors flee to dollar haven</td>\n",
       "      <td>Banks and tobacco in favour</td>\n",
       "      <td>Review: Llama Farmers</td>\n",
       "      <td>War jitters lead to sell-off</td>\n",
       "      <td>Your not-so-secret history</td>\n",
       "      <td>Review: The Northern Sinfonia</td>\n",
       "      <td>Review: Hysteria</td>\n",
       "      <td>...</td>\n",
       "      <td>Why Wenger will stick to his Gunners</td>\n",
       "      <td>Out of luck England hit rock bottom</td>\n",
       "      <td>Wilkinson out of his depth</td>\n",
       "      <td>Kinsella sparks Irish power play</td>\n",
       "      <td>Brown banished as Scots rebound</td>\n",
       "      <td>Battling Wales cling to lifeline</td>\n",
       "      <td>Ehiogu close to sealing Boro move</td>\n",
       "      <td>Man-to-man marking</td>\n",
       "      <td>Match stats</td>\n",
       "      <td>French referee at centre of storm is no strang...</td>\n",
       "    </tr>\n",
       "    <tr>\n",
       "      <th>2</th>\n",
       "      <td>03-01-2010</td>\n",
       "      <td>0</td>\n",
       "      <td>Comment: Why Israel's peaceniks feel betrayed</td>\n",
       "      <td>Court deals blow to seizure of drug assets</td>\n",
       "      <td>An ideal target for spooks</td>\n",
       "      <td>World steps between two sides intent on war</td>\n",
       "      <td>What the region's papers say</td>\n",
       "      <td>Comment: Fear and rage in Palestine</td>\n",
       "      <td>Poverty and resentment fuels Palestinian fury</td>\n",
       "      <td>Republican feud fear as dissident is killed</td>\n",
       "      <td>...</td>\n",
       "      <td>FTSE goes upwardly mobile</td>\n",
       "      <td>At this price?  BP Amoco</td>\n",
       "      <td>Go fish</td>\n",
       "      <td>Bosnian Serb blows himself up to evade law</td>\n",
       "      <td>Orange float delayed to 2001</td>\n",
       "      <td>Angry factory workers root out fear, favours a...</td>\n",
       "      <td>Smith defied advice on dome payout</td>\n",
       "      <td>Xerox takes the axe to jobs</td>\n",
       "      <td>Comment: Refugees in Britain</td>\n",
       "      <td>Maverick who sparked the new intifada</td>\n",
       "    </tr>\n",
       "    <tr>\n",
       "      <th>3</th>\n",
       "      <td>04-01-2010</td>\n",
       "      <td>1</td>\n",
       "      <td>£750,000-a-goal Weah aims parting shot</td>\n",
       "      <td>Newcastle pay for Fletcher years</td>\n",
       "      <td>Brown sent to the stands for Scotland qualifier</td>\n",
       "      <td>Tourists wary of breaking new ground</td>\n",
       "      <td>Canary Wharf climbs into the FTSE 100</td>\n",
       "      <td>Review: Bill Bailey</td>\n",
       "      <td>Review: Classical</td>\n",
       "      <td>Review: New Contemporaries 2000</td>\n",
       "      <td>...</td>\n",
       "      <td>More cash on way for counties</td>\n",
       "      <td>Cairns carries Kiwis to victory</td>\n",
       "      <td>Year of Blanchflower's flourish when Spurs sto...</td>\n",
       "      <td>New direct approach brings only pay-per-blues</td>\n",
       "      <td>Third Division  round-up</td>\n",
       "      <td>Second Division  round-up</td>\n",
       "      <td>First Division  round-up</td>\n",
       "      <td>McLean ends his career with a punch</td>\n",
       "      <td>Heskey grabs triple crown</td>\n",
       "      <td>Weah on his way as City march on</td>\n",
       "    </tr>\n",
       "    <tr>\n",
       "      <th>4</th>\n",
       "      <td>05-01-2010</td>\n",
       "      <td>1</td>\n",
       "      <td>Leeds arrive in Turkey to the silence of the fans</td>\n",
       "      <td>One woman's vision offers loan lifeline</td>\n",
       "      <td>Working Lives: How world leaders worked</td>\n",
       "      <td>Working Lives: Tricks of the trade</td>\n",
       "      <td>Working Lives: six-hour days, long lunches and...</td>\n",
       "      <td>Pop review: We Love UK</td>\n",
       "      <td>World music review: Marisa Monte</td>\n",
       "      <td>Art review:  Hollingsworth/Heyer</td>\n",
       "      <td>...</td>\n",
       "      <td>Duisenberg in double trouble</td>\n",
       "      <td>Pru to cut pension charges</td>\n",
       "      <td>Art review: Paul Graham</td>\n",
       "      <td>Shearer shot sparks Boro humiliation</td>\n",
       "      <td>Ridsdale's lingering fears as Leeds revisit Tu...</td>\n",
       "      <td>Champions League: Rangers v Galatasaray</td>\n",
       "      <td>Champions League: Lazio v Arsenal</td>\n",
       "      <td>Lazio 1 - 1 Arsenal</td>\n",
       "      <td>England in Pakistan</td>\n",
       "      <td>England given olive-branch reception</td>\n",
       "    </tr>\n",
       "  </tbody>\n",
       "</table>\n",
       "<p>5 rows × 27 columns</p>\n",
       "</div>"
      ],
      "text/plain": [
       "         Date  Label                                             News 1  \\\n",
       "0  01-01-2010      0           McIlroy's men catch cold from Gudjonsson   \n",
       "1  02-01-2010      0               Warning from history points to crash   \n",
       "2  03-01-2010      0      Comment: Why Israel's peaceniks feel betrayed   \n",
       "3  04-01-2010      1             £750,000-a-goal Weah aims parting shot   \n",
       "4  05-01-2010      1  Leeds arrive in Turkey to the silence of the fans   \n",
       "\n",
       "                                       News 2  \\\n",
       "0                       Obituary: Brian Walsh   \n",
       "1              Investors flee to dollar haven   \n",
       "2  Court deals blow to seizure of drug assets   \n",
       "3            Newcastle pay for Fletcher years   \n",
       "4     One woman's vision offers loan lifeline   \n",
       "\n",
       "                                            News 3  \\\n",
       "0       Workplace blues leave employers in the red   \n",
       "1                      Banks and tobacco in favour   \n",
       "2                       An ideal target for spooks   \n",
       "3  Brown sent to the stands for Scotland qualifier   \n",
       "4          Working Lives: How world leaders worked   \n",
       "\n",
       "                                        News 4  \\\n",
       "0                     Classical review: Rattle   \n",
       "1                        Review: Llama Farmers   \n",
       "2  World steps between two sides intent on war   \n",
       "3         Tourists wary of breaking new ground   \n",
       "4           Working Lives: Tricks of the trade   \n",
       "\n",
       "                                              News 5  \\\n",
       "0                     Dance review: Merce Cunningham   \n",
       "1                       War jitters lead to sell-off   \n",
       "2                       What the region's papers say   \n",
       "3              Canary Wharf climbs into the FTSE 100   \n",
       "4  Working Lives: six-hour days, long lunches and...   \n",
       "\n",
       "                                         News 6  \\\n",
       "0  Genetic tests to be used in setting premiums   \n",
       "1                    Your not-so-secret history   \n",
       "2           Comment: Fear and rage in Palestine   \n",
       "3                           Review: Bill Bailey   \n",
       "4                        Pop review: We Love UK   \n",
       "\n",
       "                                          News 7  \\\n",
       "0                        Opera review: La Bohème   \n",
       "1                  Review: The Northern Sinfonia   \n",
       "2  Poverty and resentment fuels Palestinian fury   \n",
       "3                              Review: Classical   \n",
       "4               World music review: Marisa Monte   \n",
       "\n",
       "                                        News 8  ...  \\\n",
       "0                   Pop review: Britney Spears  ...   \n",
       "1                             Review: Hysteria  ...   \n",
       "2  Republican feud fear as dissident is killed  ...   \n",
       "3              Review: New Contemporaries 2000  ...   \n",
       "4             Art review:  Hollingsworth/Heyer  ...   \n",
       "\n",
       "                                News 16                              News 17  \\\n",
       "0                 Finland 0 - 0 England                   Healy a marked man   \n",
       "1  Why Wenger will stick to his Gunners  Out of luck England hit rock bottom   \n",
       "2             FTSE goes upwardly mobile             At this price?  BP Amoco   \n",
       "3         More cash on way for counties      Cairns carries Kiwis to victory   \n",
       "4          Duisenberg in double trouble           Pru to cut pension charges   \n",
       "\n",
       "                                             News 18  \\\n",
       "0                     Happy birthday Harpers & Queen   \n",
       "1                         Wilkinson out of his depth   \n",
       "2                                            Go fish   \n",
       "3  Year of Blanchflower's flourish when Spurs sto...   \n",
       "4                            Art review: Paul Graham   \n",
       "\n",
       "                                             News 19  \\\n",
       "0  Win unlimited access to the Raindance film fes...   \n",
       "1                   Kinsella sparks Irish power play   \n",
       "2         Bosnian Serb blows himself up to evade law   \n",
       "3      New direct approach brings only pay-per-blues   \n",
       "4               Shearer shot sparks Boro humiliation   \n",
       "\n",
       "                                             News 20  \\\n",
       "0  Labour pledges £800m to bridge north-south divide   \n",
       "1                    Brown banished as Scots rebound   \n",
       "2                       Orange float delayed to 2001   \n",
       "3                           Third Division  round-up   \n",
       "4  Ridsdale's lingering fears as Leeds revisit Tu...   \n",
       "\n",
       "                                             News 21  \\\n",
       "0       Wales: Lib-Lab pact firm despite resignation   \n",
       "1                   Battling Wales cling to lifeline   \n",
       "2  Angry factory workers root out fear, favours a...   \n",
       "3                          Second Division  round-up   \n",
       "4            Champions League: Rangers v Galatasaray   \n",
       "\n",
       "                              News 22  \\\n",
       "0                        Donald Dewar   \n",
       "1   Ehiogu close to sealing Boro move   \n",
       "2  Smith defied advice on dome payout   \n",
       "3            First Division  round-up   \n",
       "4   Champions League: Lazio v Arsenal   \n",
       "\n",
       "                                             News 23  \\\n",
       "0  Regenerating homes  regenerates well-being in ...   \n",
       "1                                 Man-to-man marking   \n",
       "2                        Xerox takes the axe to jobs   \n",
       "3                McLean ends his career with a punch   \n",
       "4                                Lazio 1 - 1 Arsenal   \n",
       "\n",
       "                        News 24  \\\n",
       "0   Win £100 worth of underwear   \n",
       "1                   Match stats   \n",
       "2  Comment: Refugees in Britain   \n",
       "3     Heskey grabs triple crown   \n",
       "4           England in Pakistan   \n",
       "\n",
       "                                             News 25  \n",
       "0                             TV guide: Random views  \n",
       "1  French referee at centre of storm is no strang...  \n",
       "2              Maverick who sparked the new intifada  \n",
       "3                   Weah on his way as City march on  \n",
       "4               England given olive-branch reception  \n",
       "\n",
       "[5 rows x 27 columns]"
      ]
     },
     "execution_count": 3,
     "metadata": {},
     "output_type": "execute_result"
    }
   ],
   "source": [
    "df.head()"
   ]
  },
  {
   "cell_type": "code",
   "execution_count": 4,
   "id": "84eddeb3",
   "metadata": {
    "execution": {
     "iopub.execute_input": "2023-07-15T09:28:05.016529Z",
     "iopub.status.busy": "2023-07-15T09:28:05.016100Z",
     "iopub.status.idle": "2023-07-15T09:28:05.080987Z",
     "shell.execute_reply": "2023-07-15T09:28:05.079253Z"
    },
    "papermill": {
     "duration": 0.077571,
     "end_time": "2023-07-15T09:28:05.083594",
     "exception": false,
     "start_time": "2023-07-15T09:28:05.006023",
     "status": "completed"
    },
    "tags": []
   },
   "outputs": [
    {
     "name": "stdout",
     "output_type": "stream",
     "text": [
      "<class 'pandas.core.frame.DataFrame'>\n",
      "RangeIndex: 4101 entries, 0 to 4100\n",
      "Data columns (total 27 columns):\n",
      " #   Column   Non-Null Count  Dtype \n",
      "---  ------   --------------  ----- \n",
      " 0   Date     4101 non-null   object\n",
      " 1   Label    4101 non-null   int64 \n",
      " 2   News 1   4101 non-null   object\n",
      " 3   News 2   4101 non-null   object\n",
      " 4   News 3   4101 non-null   object\n",
      " 5   News 4   4101 non-null   object\n",
      " 6   News 5   4101 non-null   object\n",
      " 7   News 6   4101 non-null   object\n",
      " 8   News 7   4101 non-null   object\n",
      " 9   News 8   4101 non-null   object\n",
      " 10  News 9   4101 non-null   object\n",
      " 11  News 10  4101 non-null   object\n",
      " 12  News 11  4101 non-null   object\n",
      " 13  News 12  4101 non-null   object\n",
      " 14  News 13  4101 non-null   object\n",
      " 15  News 14  4101 non-null   object\n",
      " 16  News 15  4101 non-null   object\n",
      " 17  News 16  4101 non-null   object\n",
      " 18  News 17  4101 non-null   object\n",
      " 19  News 18  4101 non-null   object\n",
      " 20  News 19  4101 non-null   object\n",
      " 21  News 20  4101 non-null   object\n",
      " 22  News 21  4101 non-null   object\n",
      " 23  News 22  4101 non-null   object\n",
      " 24  News 23  4100 non-null   object\n",
      " 25  News 24  4098 non-null   object\n",
      " 26  News 25  4098 non-null   object\n",
      "dtypes: int64(1), object(26)\n",
      "memory usage: 865.2+ KB\n"
     ]
    }
   ],
   "source": [
    "df.info()"
   ]
  },
  {
   "cell_type": "code",
   "execution_count": 5,
   "id": "8a597298",
   "metadata": {
    "execution": {
     "iopub.execute_input": "2023-07-15T09:28:05.103648Z",
     "iopub.status.busy": "2023-07-15T09:28:05.103223Z",
     "iopub.status.idle": "2023-07-15T09:28:05.119332Z",
     "shell.execute_reply": "2023-07-15T09:28:05.118184Z"
    },
    "papermill": {
     "duration": 0.02917,
     "end_time": "2023-07-15T09:28:05.121804",
     "exception": false,
     "start_time": "2023-07-15T09:28:05.092634",
     "status": "completed"
    },
    "tags": []
   },
   "outputs": [
    {
     "data": {
      "text/html": [
       "<div>\n",
       "<style scoped>\n",
       "    .dataframe tbody tr th:only-of-type {\n",
       "        vertical-align: middle;\n",
       "    }\n",
       "\n",
       "    .dataframe tbody tr th {\n",
       "        vertical-align: top;\n",
       "    }\n",
       "\n",
       "    .dataframe thead th {\n",
       "        text-align: right;\n",
       "    }\n",
       "</style>\n",
       "<table border=\"1\" class=\"dataframe\">\n",
       "  <thead>\n",
       "    <tr style=\"text-align: right;\">\n",
       "      <th></th>\n",
       "      <th>Label</th>\n",
       "    </tr>\n",
       "  </thead>\n",
       "  <tbody>\n",
       "    <tr>\n",
       "      <th>count</th>\n",
       "      <td>4101.000000</td>\n",
       "    </tr>\n",
       "    <tr>\n",
       "      <th>mean</th>\n",
       "      <td>0.528164</td>\n",
       "    </tr>\n",
       "    <tr>\n",
       "      <th>std</th>\n",
       "      <td>0.499267</td>\n",
       "    </tr>\n",
       "    <tr>\n",
       "      <th>min</th>\n",
       "      <td>0.000000</td>\n",
       "    </tr>\n",
       "    <tr>\n",
       "      <th>25%</th>\n",
       "      <td>0.000000</td>\n",
       "    </tr>\n",
       "    <tr>\n",
       "      <th>50%</th>\n",
       "      <td>1.000000</td>\n",
       "    </tr>\n",
       "    <tr>\n",
       "      <th>75%</th>\n",
       "      <td>1.000000</td>\n",
       "    </tr>\n",
       "    <tr>\n",
       "      <th>max</th>\n",
       "      <td>1.000000</td>\n",
       "    </tr>\n",
       "  </tbody>\n",
       "</table>\n",
       "</div>"
      ],
      "text/plain": [
       "             Label\n",
       "count  4101.000000\n",
       "mean      0.528164\n",
       "std       0.499267\n",
       "min       0.000000\n",
       "25%       0.000000\n",
       "50%       1.000000\n",
       "75%       1.000000\n",
       "max       1.000000"
      ]
     },
     "execution_count": 5,
     "metadata": {},
     "output_type": "execute_result"
    }
   ],
   "source": [
    "df.describe()"
   ]
  },
  {
   "cell_type": "code",
   "execution_count": 6,
   "id": "fe28cc74",
   "metadata": {
    "execution": {
     "iopub.execute_input": "2023-07-15T09:28:05.142705Z",
     "iopub.status.busy": "2023-07-15T09:28:05.141677Z",
     "iopub.status.idle": "2023-07-15T09:28:05.149337Z",
     "shell.execute_reply": "2023-07-15T09:28:05.148027Z"
    },
    "papermill": {
     "duration": 0.020618,
     "end_time": "2023-07-15T09:28:05.151750",
     "exception": false,
     "start_time": "2023-07-15T09:28:05.131132",
     "status": "completed"
    },
    "tags": []
   },
   "outputs": [
    {
     "data": {
      "text/plain": [
       "(4101, 27)"
      ]
     },
     "execution_count": 6,
     "metadata": {},
     "output_type": "execute_result"
    }
   ],
   "source": [
    "df.shape"
   ]
  },
  {
   "cell_type": "code",
   "execution_count": 7,
   "id": "9d1e5ff1",
   "metadata": {
    "execution": {
     "iopub.execute_input": "2023-07-15T09:28:05.172479Z",
     "iopub.status.busy": "2023-07-15T09:28:05.172070Z",
     "iopub.status.idle": "2023-07-15T09:28:05.180354Z",
     "shell.execute_reply": "2023-07-15T09:28:05.179181Z"
    },
    "papermill": {
     "duration": 0.021515,
     "end_time": "2023-07-15T09:28:05.182784",
     "exception": false,
     "start_time": "2023-07-15T09:28:05.161269",
     "status": "completed"
    },
    "tags": []
   },
   "outputs": [
    {
     "data": {
      "text/plain": [
       "Index(['Date', 'Label', 'News 1', 'News 2', 'News 3', 'News 4', 'News 5',\n",
       "       'News 6', 'News 7', 'News 8', 'News 9', 'News 10', 'News 11', 'News 12',\n",
       "       'News 13', 'News 14', 'News 15', 'News 16', 'News 17', 'News 18',\n",
       "       'News 19', 'News 20', 'News 21', 'News 22', 'News 23', 'News 24',\n",
       "       'News 25'],\n",
       "      dtype='object')"
      ]
     },
     "execution_count": 7,
     "metadata": {},
     "output_type": "execute_result"
    }
   ],
   "source": [
    "df.columns"
   ]
  },
  {
   "cell_type": "code",
   "execution_count": 8,
   "id": "c2602ba5",
   "metadata": {
    "execution": {
     "iopub.execute_input": "2023-07-15T09:28:05.205329Z",
     "iopub.status.busy": "2023-07-15T09:28:05.204935Z",
     "iopub.status.idle": "2023-07-15T09:28:05.213537Z",
     "shell.execute_reply": "2023-07-15T09:28:05.212299Z"
    },
    "papermill": {
     "duration": 0.022237,
     "end_time": "2023-07-15T09:28:05.216129",
     "exception": false,
     "start_time": "2023-07-15T09:28:05.193892",
     "status": "completed"
    },
    "tags": []
   },
   "outputs": [
    {
     "data": {
      "text/plain": [
       "\"Warning from history points to crashInvestors flee to dollar havenBanks and tobacco in favourReview: Llama FarmersWar jitters lead to sell-offYour not-so-secret historyReview: The Northern SinfoniaReview: HysteriaReview: The GuardsmanOpera: The Marriage of FigaroReview: The Turk in ItalyDeutsche spells out its plans for diversificationTraders' panic sends oil prices skywardTV sport chief leaves home over romanceLeader: Hi-tech twitchWhy Wenger will stick to his GunnersOut of luck England hit rock bottomWilkinson out of his depthKinsella sparks Irish power playBrown banished as Scots reboundBattling Wales cling to lifelineEhiogu close to sealing Boro moveMan-to-man markingMatch statsFrench referee at centre of storm is no stranger to controversy\""
      ]
     },
     "execution_count": 8,
     "metadata": {},
     "output_type": "execute_result"
    }
   ],
   "source": [
    "''.join(str(x) for x in df.iloc[1,2:27])"
   ]
  },
  {
   "cell_type": "code",
   "execution_count": 9,
   "id": "bbf2c051",
   "metadata": {
    "execution": {
     "iopub.execute_input": "2023-07-15T09:28:05.238068Z",
     "iopub.status.busy": "2023-07-15T09:28:05.237656Z",
     "iopub.status.idle": "2023-07-15T09:28:05.245230Z",
     "shell.execute_reply": "2023-07-15T09:28:05.244051Z"
    },
    "papermill": {
     "duration": 0.021615,
     "end_time": "2023-07-15T09:28:05.247847",
     "exception": false,
     "start_time": "2023-07-15T09:28:05.226232",
     "status": "completed"
    },
    "tags": []
   },
   "outputs": [
    {
     "data": {
      "text/plain": [
       "RangeIndex(start=0, stop=4101, step=1)"
      ]
     },
     "execution_count": 9,
     "metadata": {},
     "output_type": "execute_result"
    }
   ],
   "source": [
    "df.index"
   ]
  },
  {
   "cell_type": "code",
   "execution_count": 10,
   "id": "2f112dbc",
   "metadata": {
    "execution": {
     "iopub.execute_input": "2023-07-15T09:28:05.271142Z",
     "iopub.status.busy": "2023-07-15T09:28:05.270736Z",
     "iopub.status.idle": "2023-07-15T09:28:05.278179Z",
     "shell.execute_reply": "2023-07-15T09:28:05.276886Z"
    },
    "papermill": {
     "duration": 0.022489,
     "end_time": "2023-07-15T09:28:05.280682",
     "exception": false,
     "start_time": "2023-07-15T09:28:05.258193",
     "status": "completed"
    },
    "tags": []
   },
   "outputs": [
    {
     "data": {
      "text/plain": [
       "4101"
      ]
     },
     "execution_count": 10,
     "metadata": {},
     "output_type": "execute_result"
    }
   ],
   "source": [
    "len(df.index)"
   ]
  },
  {
   "cell_type": "code",
   "execution_count": 11,
   "id": "7dc69dd1",
   "metadata": {
    "execution": {
     "iopub.execute_input": "2023-07-15T09:28:05.304513Z",
     "iopub.status.busy": "2023-07-15T09:28:05.303697Z",
     "iopub.status.idle": "2023-07-15T09:28:06.178077Z",
     "shell.execute_reply": "2023-07-15T09:28:06.176862Z"
    },
    "papermill": {
     "duration": 0.889203,
     "end_time": "2023-07-15T09:28:06.180805",
     "exception": false,
     "start_time": "2023-07-15T09:28:05.291602",
     "status": "completed"
    },
    "tags": []
   },
   "outputs": [],
   "source": [
    "news = []\n",
    "for row in range(0,len(df.index)):\n",
    "  news.append(''.join(str(x) for x in df.iloc[row,2:27]))"
   ]
  },
  {
   "cell_type": "code",
   "execution_count": 12,
   "id": "7b5169b0",
   "metadata": {
    "execution": {
     "iopub.execute_input": "2023-07-15T09:28:06.204065Z",
     "iopub.status.busy": "2023-07-15T09:28:06.203663Z",
     "iopub.status.idle": "2023-07-15T09:28:06.210845Z",
     "shell.execute_reply": "2023-07-15T09:28:06.209678Z"
    },
    "papermill": {
     "duration": 0.021779,
     "end_time": "2023-07-15T09:28:06.213285",
     "exception": false,
     "start_time": "2023-07-15T09:28:06.191506",
     "status": "completed"
    },
    "tags": []
   },
   "outputs": [
    {
     "data": {
      "text/plain": [
       "list"
      ]
     },
     "execution_count": 12,
     "metadata": {},
     "output_type": "execute_result"
    }
   ],
   "source": [
    "type(news)"
   ]
  },
  {
   "cell_type": "code",
   "execution_count": 13,
   "id": "ffaa93f8",
   "metadata": {
    "execution": {
     "iopub.execute_input": "2023-07-15T09:28:06.236628Z",
     "iopub.status.busy": "2023-07-15T09:28:06.236236Z",
     "iopub.status.idle": "2023-07-15T09:28:06.243355Z",
     "shell.execute_reply": "2023-07-15T09:28:06.242203Z"
    },
    "papermill": {
     "duration": 0.021648,
     "end_time": "2023-07-15T09:28:06.245799",
     "exception": false,
     "start_time": "2023-07-15T09:28:06.224151",
     "status": "completed"
    },
    "tags": []
   },
   "outputs": [
    {
     "data": {
      "text/plain": [
       "\"McIlroy's men catch cold from GudjonssonObituary: Brian WalshWorkplace blues leave employers in the redClassical review: RattleDance review: Merce CunninghamGenetic tests to be used in setting premiumsOpera review: La BohèmePop review: Britney SpearsTheatre review: The CircleWales face a fraught nightUnder-21  round-upSmith off to blot his copybookFinns taking the mickeyPraise wasted as Brown studies injury optionsIreland wary of minnowsFinland 0 - 0 EnglandHealy a marked manHappy birthday Harpers & QueenWin unlimited access to the Raindance film festivalLabour pledges £800m to bridge north-south divideWales: Lib-Lab pact firm despite resignationDonald DewarRegenerating homes  regenerates well-being in peopleWin £100 worth of underwearTV guide: Random views\""
      ]
     },
     "execution_count": 13,
     "metadata": {},
     "output_type": "execute_result"
    }
   ],
   "source": [
    "news[0]"
   ]
  },
  {
   "cell_type": "code",
   "execution_count": 14,
   "id": "7b75246e",
   "metadata": {
    "execution": {
     "iopub.execute_input": "2023-07-15T09:28:06.269618Z",
     "iopub.status.busy": "2023-07-15T09:28:06.269190Z",
     "iopub.status.idle": "2023-07-15T09:28:06.274572Z",
     "shell.execute_reply": "2023-07-15T09:28:06.273325Z"
    },
    "papermill": {
     "duration": 0.020416,
     "end_time": "2023-07-15T09:28:06.277062",
     "exception": false,
     "start_time": "2023-07-15T09:28:06.256646",
     "status": "completed"
    },
    "tags": []
   },
   "outputs": [],
   "source": [
    "x = news"
   ]
  },
  {
   "cell_type": "code",
   "execution_count": 15,
   "id": "c8b757fe",
   "metadata": {
    "execution": {
     "iopub.execute_input": "2023-07-15T09:28:06.301694Z",
     "iopub.status.busy": "2023-07-15T09:28:06.301248Z",
     "iopub.status.idle": "2023-07-15T09:28:06.308051Z",
     "shell.execute_reply": "2023-07-15T09:28:06.306852Z"
    },
    "papermill": {
     "duration": 0.022047,
     "end_time": "2023-07-15T09:28:06.310518",
     "exception": false,
     "start_time": "2023-07-15T09:28:06.288471",
     "status": "completed"
    },
    "tags": []
   },
   "outputs": [
    {
     "data": {
      "text/plain": [
       "list"
      ]
     },
     "execution_count": 15,
     "metadata": {},
     "output_type": "execute_result"
    }
   ],
   "source": [
    "type(x)"
   ]
  },
  {
   "cell_type": "code",
   "execution_count": 16,
   "id": "5106f876",
   "metadata": {
    "execution": {
     "iopub.execute_input": "2023-07-15T09:28:06.335018Z",
     "iopub.status.busy": "2023-07-15T09:28:06.334598Z",
     "iopub.status.idle": "2023-07-15T09:28:07.578335Z",
     "shell.execute_reply": "2023-07-15T09:28:07.577040Z"
    },
    "papermill": {
     "duration": 1.259265,
     "end_time": "2023-07-15T09:28:07.581108",
     "exception": false,
     "start_time": "2023-07-15T09:28:06.321843",
     "status": "completed"
    },
    "tags": []
   },
   "outputs": [
    {
     "name": "stderr",
     "output_type": "stream",
     "text": [
      "/opt/conda/lib/python3.10/site-packages/scipy/__init__.py:146: UserWarning: A NumPy version >=1.16.5 and <1.23.0 is required for this version of SciPy (detected version 1.23.5\n",
      "  warnings.warn(f\"A NumPy version >={np_minversion} and <{np_maxversion}\"\n"
     ]
    }
   ],
   "source": [
    "from sklearn.feature_extraction.text import CountVectorizer"
   ]
  },
  {
   "cell_type": "code",
   "execution_count": 17,
   "id": "f4fda19f",
   "metadata": {
    "execution": {
     "iopub.execute_input": "2023-07-15T09:28:07.606602Z",
     "iopub.status.busy": "2023-07-15T09:28:07.605476Z",
     "iopub.status.idle": "2023-07-15T09:28:07.610687Z",
     "shell.execute_reply": "2023-07-15T09:28:07.609729Z"
    },
    "papermill": {
     "duration": 0.020552,
     "end_time": "2023-07-15T09:28:07.613161",
     "exception": false,
     "start_time": "2023-07-15T09:28:07.592609",
     "status": "completed"
    },
    "tags": []
   },
   "outputs": [],
   "source": [
    "cv = CountVectorizer(lowercase = True, ngram_range=(1,1))"
   ]
  },
  {
   "cell_type": "code",
   "execution_count": 18,
   "id": "5b5c1141",
   "metadata": {
    "execution": {
     "iopub.execute_input": "2023-07-15T09:28:07.638688Z",
     "iopub.status.busy": "2023-07-15T09:28:07.637222Z",
     "iopub.status.idle": "2023-07-15T09:28:09.544808Z",
     "shell.execute_reply": "2023-07-15T09:28:09.543207Z"
    },
    "papermill": {
     "duration": 1.92353,
     "end_time": "2023-07-15T09:28:09.548047",
     "exception": false,
     "start_time": "2023-07-15T09:28:07.624517",
     "status": "completed"
    },
    "tags": []
   },
   "outputs": [],
   "source": [
    "x = cv.fit_transform(x)"
   ]
  },
  {
   "cell_type": "code",
   "execution_count": 19,
   "id": "a4a5aec8",
   "metadata": {
    "execution": {
     "iopub.execute_input": "2023-07-15T09:28:09.573421Z",
     "iopub.status.busy": "2023-07-15T09:28:09.572586Z",
     "iopub.status.idle": "2023-07-15T09:28:09.580153Z",
     "shell.execute_reply": "2023-07-15T09:28:09.578809Z"
    },
    "papermill": {
     "duration": 0.023092,
     "end_time": "2023-07-15T09:28:09.582891",
     "exception": false,
     "start_time": "2023-07-15T09:28:09.559799",
     "status": "completed"
    },
    "tags": []
   },
   "outputs": [
    {
     "data": {
      "text/plain": [
       "(4101, 108682)"
      ]
     },
     "execution_count": 19,
     "metadata": {},
     "output_type": "execute_result"
    }
   ],
   "source": [
    "x.shape"
   ]
  },
  {
   "cell_type": "code",
   "execution_count": 20,
   "id": "033763ad",
   "metadata": {
    "execution": {
     "iopub.execute_input": "2023-07-15T09:28:09.608430Z",
     "iopub.status.busy": "2023-07-15T09:28:09.607985Z",
     "iopub.status.idle": "2023-07-15T09:28:09.612981Z",
     "shell.execute_reply": "2023-07-15T09:28:09.611813Z"
    },
    "papermill": {
     "duration": 0.020492,
     "end_time": "2023-07-15T09:28:09.615232",
     "exception": false,
     "start_time": "2023-07-15T09:28:09.594740",
     "status": "completed"
    },
    "tags": []
   },
   "outputs": [],
   "source": [
    "y = df['Label']"
   ]
  },
  {
   "cell_type": "code",
   "execution_count": 21,
   "id": "eb37bc4b",
   "metadata": {
    "execution": {
     "iopub.execute_input": "2023-07-15T09:28:09.640460Z",
     "iopub.status.busy": "2023-07-15T09:28:09.640068Z",
     "iopub.status.idle": "2023-07-15T09:28:09.647097Z",
     "shell.execute_reply": "2023-07-15T09:28:09.645944Z"
    },
    "papermill": {
     "duration": 0.022391,
     "end_time": "2023-07-15T09:28:09.649314",
     "exception": false,
     "start_time": "2023-07-15T09:28:09.626923",
     "status": "completed"
    },
    "tags": []
   },
   "outputs": [
    {
     "data": {
      "text/plain": [
       "(4101,)"
      ]
     },
     "execution_count": 21,
     "metadata": {},
     "output_type": "execute_result"
    }
   ],
   "source": [
    "y.shape"
   ]
  },
  {
   "cell_type": "code",
   "execution_count": 22,
   "id": "9b1d4d5c",
   "metadata": {
    "execution": {
     "iopub.execute_input": "2023-07-15T09:28:09.675168Z",
     "iopub.status.busy": "2023-07-15T09:28:09.674738Z",
     "iopub.status.idle": "2023-07-15T09:28:09.794384Z",
     "shell.execute_reply": "2023-07-15T09:28:09.792967Z"
    },
    "papermill": {
     "duration": 0.135836,
     "end_time": "2023-07-15T09:28:09.797186",
     "exception": false,
     "start_time": "2023-07-15T09:28:09.661350",
     "status": "completed"
    },
    "tags": []
   },
   "outputs": [],
   "source": [
    "from sklearn.model_selection import train_test_split"
   ]
  },
  {
   "cell_type": "code",
   "execution_count": 23,
   "id": "a5961259",
   "metadata": {
    "execution": {
     "iopub.execute_input": "2023-07-15T09:28:09.823468Z",
     "iopub.status.busy": "2023-07-15T09:28:09.823037Z",
     "iopub.status.idle": "2023-07-15T09:28:09.837359Z",
     "shell.execute_reply": "2023-07-15T09:28:09.836085Z"
    },
    "papermill": {
     "duration": 0.030616,
     "end_time": "2023-07-15T09:28:09.840177",
     "exception": false,
     "start_time": "2023-07-15T09:28:09.809561",
     "status": "completed"
    },
    "tags": []
   },
   "outputs": [],
   "source": [
    "x_train, x_test, y_train,y_test = train_test_split(x,y,test_size = 0.3,stratify = y, random_state = 2529)"
   ]
  },
  {
   "cell_type": "code",
   "execution_count": 24,
   "id": "03a35276",
   "metadata": {
    "execution": {
     "iopub.execute_input": "2023-07-15T09:28:09.866120Z",
     "iopub.status.busy": "2023-07-15T09:28:09.865644Z",
     "iopub.status.idle": "2023-07-15T09:28:10.279544Z",
     "shell.execute_reply": "2023-07-15T09:28:10.278234Z"
    },
    "papermill": {
     "duration": 0.430071,
     "end_time": "2023-07-15T09:28:10.282270",
     "exception": false,
     "start_time": "2023-07-15T09:28:09.852199",
     "status": "completed"
    },
    "tags": []
   },
   "outputs": [],
   "source": [
    "from sklearn.ensemble import RandomForestClassifier"
   ]
  },
  {
   "cell_type": "code",
   "execution_count": 25,
   "id": "fce170d2",
   "metadata": {
    "execution": {
     "iopub.execute_input": "2023-07-15T09:28:10.308902Z",
     "iopub.status.busy": "2023-07-15T09:28:10.308424Z",
     "iopub.status.idle": "2023-07-15T09:28:10.313094Z",
     "shell.execute_reply": "2023-07-15T09:28:10.312200Z"
    },
    "papermill": {
     "duration": 0.020628,
     "end_time": "2023-07-15T09:28:10.315357",
     "exception": false,
     "start_time": "2023-07-15T09:28:10.294729",
     "status": "completed"
    },
    "tags": []
   },
   "outputs": [],
   "source": [
    "rf = RandomForestClassifier(n_estimators=200)"
   ]
  },
  {
   "cell_type": "code",
   "execution_count": 26,
   "id": "cca6f750",
   "metadata": {
    "execution": {
     "iopub.execute_input": "2023-07-15T09:28:10.342409Z",
     "iopub.status.busy": "2023-07-15T09:28:10.341990Z",
     "iopub.status.idle": "2023-07-15T09:28:36.502274Z",
     "shell.execute_reply": "2023-07-15T09:28:36.501199Z"
    },
    "papermill": {
     "duration": 26.176726,
     "end_time": "2023-07-15T09:28:36.504653",
     "exception": false,
     "start_time": "2023-07-15T09:28:10.327927",
     "status": "completed"
    },
    "tags": []
   },
   "outputs": [
    {
     "data": {
      "text/html": [
       "<style>#sk-container-id-1 {color: black;background-color: white;}#sk-container-id-1 pre{padding: 0;}#sk-container-id-1 div.sk-toggleable {background-color: white;}#sk-container-id-1 label.sk-toggleable__label {cursor: pointer;display: block;width: 100%;margin-bottom: 0;padding: 0.3em;box-sizing: border-box;text-align: center;}#sk-container-id-1 label.sk-toggleable__label-arrow:before {content: \"▸\";float: left;margin-right: 0.25em;color: #696969;}#sk-container-id-1 label.sk-toggleable__label-arrow:hover:before {color: black;}#sk-container-id-1 div.sk-estimator:hover label.sk-toggleable__label-arrow:before {color: black;}#sk-container-id-1 div.sk-toggleable__content {max-height: 0;max-width: 0;overflow: hidden;text-align: left;background-color: #f0f8ff;}#sk-container-id-1 div.sk-toggleable__content pre {margin: 0.2em;color: black;border-radius: 0.25em;background-color: #f0f8ff;}#sk-container-id-1 input.sk-toggleable__control:checked~div.sk-toggleable__content {max-height: 200px;max-width: 100%;overflow: auto;}#sk-container-id-1 input.sk-toggleable__control:checked~label.sk-toggleable__label-arrow:before {content: \"▾\";}#sk-container-id-1 div.sk-estimator input.sk-toggleable__control:checked~label.sk-toggleable__label {background-color: #d4ebff;}#sk-container-id-1 div.sk-label input.sk-toggleable__control:checked~label.sk-toggleable__label {background-color: #d4ebff;}#sk-container-id-1 input.sk-hidden--visually {border: 0;clip: rect(1px 1px 1px 1px);clip: rect(1px, 1px, 1px, 1px);height: 1px;margin: -1px;overflow: hidden;padding: 0;position: absolute;width: 1px;}#sk-container-id-1 div.sk-estimator {font-family: monospace;background-color: #f0f8ff;border: 1px dotted black;border-radius: 0.25em;box-sizing: border-box;margin-bottom: 0.5em;}#sk-container-id-1 div.sk-estimator:hover {background-color: #d4ebff;}#sk-container-id-1 div.sk-parallel-item::after {content: \"\";width: 100%;border-bottom: 1px solid gray;flex-grow: 1;}#sk-container-id-1 div.sk-label:hover label.sk-toggleable__label {background-color: #d4ebff;}#sk-container-id-1 div.sk-serial::before {content: \"\";position: absolute;border-left: 1px solid gray;box-sizing: border-box;top: 0;bottom: 0;left: 50%;z-index: 0;}#sk-container-id-1 div.sk-serial {display: flex;flex-direction: column;align-items: center;background-color: white;padding-right: 0.2em;padding-left: 0.2em;position: relative;}#sk-container-id-1 div.sk-item {position: relative;z-index: 1;}#sk-container-id-1 div.sk-parallel {display: flex;align-items: stretch;justify-content: center;background-color: white;position: relative;}#sk-container-id-1 div.sk-item::before, #sk-container-id-1 div.sk-parallel-item::before {content: \"\";position: absolute;border-left: 1px solid gray;box-sizing: border-box;top: 0;bottom: 0;left: 50%;z-index: -1;}#sk-container-id-1 div.sk-parallel-item {display: flex;flex-direction: column;z-index: 1;position: relative;background-color: white;}#sk-container-id-1 div.sk-parallel-item:first-child::after {align-self: flex-end;width: 50%;}#sk-container-id-1 div.sk-parallel-item:last-child::after {align-self: flex-start;width: 50%;}#sk-container-id-1 div.sk-parallel-item:only-child::after {width: 0;}#sk-container-id-1 div.sk-dashed-wrapped {border: 1px dashed gray;margin: 0 0.4em 0.5em 0.4em;box-sizing: border-box;padding-bottom: 0.4em;background-color: white;}#sk-container-id-1 div.sk-label label {font-family: monospace;font-weight: bold;display: inline-block;line-height: 1.2em;}#sk-container-id-1 div.sk-label-container {text-align: center;}#sk-container-id-1 div.sk-container {/* jupyter's `normalize.less` sets `[hidden] { display: none; }` but bootstrap.min.css set `[hidden] { display: none !important; }` so we also need the `!important` here to be able to override the default hidden behavior on the sphinx rendered scikit-learn.org. See: https://github.com/scikit-learn/scikit-learn/issues/21755 */display: inline-block !important;position: relative;}#sk-container-id-1 div.sk-text-repr-fallback {display: none;}</style><div id=\"sk-container-id-1\" class=\"sk-top-container\"><div class=\"sk-text-repr-fallback\"><pre>RandomForestClassifier(n_estimators=200)</pre><b>In a Jupyter environment, please rerun this cell to show the HTML representation or trust the notebook. <br />On GitHub, the HTML representation is unable to render, please try loading this page with nbviewer.org.</b></div><div class=\"sk-container\" hidden><div class=\"sk-item\"><div class=\"sk-estimator sk-toggleable\"><input class=\"sk-toggleable__control sk-hidden--visually\" id=\"sk-estimator-id-1\" type=\"checkbox\" checked><label for=\"sk-estimator-id-1\" class=\"sk-toggleable__label sk-toggleable__label-arrow\">RandomForestClassifier</label><div class=\"sk-toggleable__content\"><pre>RandomForestClassifier(n_estimators=200)</pre></div></div></div></div></div>"
      ],
      "text/plain": [
       "RandomForestClassifier(n_estimators=200)"
      ]
     },
     "execution_count": 26,
     "metadata": {},
     "output_type": "execute_result"
    }
   ],
   "source": [
    "rf.fit(x_train, y_train)"
   ]
  },
  {
   "cell_type": "code",
   "execution_count": 27,
   "id": "6da3effe",
   "metadata": {
    "execution": {
     "iopub.execute_input": "2023-07-15T09:28:36.533487Z",
     "iopub.status.busy": "2023-07-15T09:28:36.533040Z",
     "iopub.status.idle": "2023-07-15T09:28:36.945628Z",
     "shell.execute_reply": "2023-07-15T09:28:36.944295Z"
    },
    "papermill": {
     "duration": 0.42956,
     "end_time": "2023-07-15T09:28:36.948813",
     "exception": false,
     "start_time": "2023-07-15T09:28:36.519253",
     "status": "completed"
    },
    "tags": []
   },
   "outputs": [],
   "source": [
    "y_pred = rf.predict(x_test)"
   ]
  },
  {
   "cell_type": "code",
   "execution_count": 28,
   "id": "986e7363",
   "metadata": {
    "execution": {
     "iopub.execute_input": "2023-07-15T09:28:36.976114Z",
     "iopub.status.busy": "2023-07-15T09:28:36.975632Z",
     "iopub.status.idle": "2023-07-15T09:28:36.981605Z",
     "shell.execute_reply": "2023-07-15T09:28:36.979989Z"
    },
    "papermill": {
     "duration": 0.022976,
     "end_time": "2023-07-15T09:28:36.984348",
     "exception": false,
     "start_time": "2023-07-15T09:28:36.961372",
     "status": "completed"
    },
    "tags": []
   },
   "outputs": [],
   "source": [
    "from sklearn.metrics import classification_report,confusion_matrix,accuracy_score"
   ]
  },
  {
   "cell_type": "code",
   "execution_count": 29,
   "id": "6f0187e2",
   "metadata": {
    "execution": {
     "iopub.execute_input": "2023-07-15T09:28:37.012168Z",
     "iopub.status.busy": "2023-07-15T09:28:37.010915Z",
     "iopub.status.idle": "2023-07-15T09:28:37.022220Z",
     "shell.execute_reply": "2023-07-15T09:28:37.021075Z"
    },
    "papermill": {
     "duration": 0.027609,
     "end_time": "2023-07-15T09:28:37.024667",
     "exception": false,
     "start_time": "2023-07-15T09:28:36.997058",
     "status": "completed"
    },
    "tags": []
   },
   "outputs": [
    {
     "data": {
      "text/plain": [
       "array([[116, 465],\n",
       "       [137, 513]])"
      ]
     },
     "execution_count": 29,
     "metadata": {},
     "output_type": "execute_result"
    }
   ],
   "source": [
    "confusion_matrix(y_test, y_pred)"
   ]
  },
  {
   "cell_type": "code",
   "execution_count": 30,
   "id": "95bc84f5",
   "metadata": {
    "execution": {
     "iopub.execute_input": "2023-07-15T09:28:37.052623Z",
     "iopub.status.busy": "2023-07-15T09:28:37.051786Z",
     "iopub.status.idle": "2023-07-15T09:28:37.069819Z",
     "shell.execute_reply": "2023-07-15T09:28:37.067929Z"
    },
    "papermill": {
     "duration": 0.034843,
     "end_time": "2023-07-15T09:28:37.072346",
     "exception": false,
     "start_time": "2023-07-15T09:28:37.037503",
     "status": "completed"
    },
    "tags": []
   },
   "outputs": [
    {
     "name": "stdout",
     "output_type": "stream",
     "text": [
      "              precision    recall  f1-score   support\n",
      "\n",
      "           0       0.46      0.20      0.28       581\n",
      "           1       0.52      0.79      0.63       650\n",
      "\n",
      "    accuracy                           0.51      1231\n",
      "   macro avg       0.49      0.49      0.45      1231\n",
      "weighted avg       0.49      0.51      0.46      1231\n",
      "\n"
     ]
    }
   ],
   "source": [
    "print(classification_report(y_test, y_pred))"
   ]
  },
  {
   "cell_type": "code",
   "execution_count": 31,
   "id": "f0c12771",
   "metadata": {
    "execution": {
     "iopub.execute_input": "2023-07-15T09:28:37.102690Z",
     "iopub.status.busy": "2023-07-15T09:28:37.101891Z",
     "iopub.status.idle": "2023-07-15T09:28:37.107384Z",
     "shell.execute_reply": "2023-07-15T09:28:37.106215Z"
    },
    "papermill": {
     "duration": 0.023467,
     "end_time": "2023-07-15T09:28:37.109944",
     "exception": false,
     "start_time": "2023-07-15T09:28:37.086477",
     "status": "completed"
    },
    "tags": []
   },
   "outputs": [
    {
     "name": "stdout",
     "output_type": "stream",
     "text": [
      "<function accuracy_score at 0x7c6b0a3a85e0>\n"
     ]
    }
   ],
   "source": [
    "print(accuracy_score)"
   ]
  }
 ],
 "metadata": {
  "kernelspec": {
   "display_name": "Python 3",
   "language": "python",
   "name": "python3"
  },
  "language_info": {
   "codemirror_mode": {
    "name": "ipython",
    "version": 3
   },
   "file_extension": ".py",
   "mimetype": "text/x-python",
   "name": "python",
   "nbconvert_exporter": "python",
   "pygments_lexer": "ipython3",
   "version": "3.10.12"
  },
  "papermill": {
   "default_parameters": {},
   "duration": 46.444176,
   "end_time": "2023-07-15T09:28:38.348810",
   "environment_variables": {},
   "exception": null,
   "input_path": "__notebook__.ipynb",
   "output_path": "__notebook__.ipynb",
   "parameters": {},
   "start_time": "2023-07-15T09:27:51.904634",
   "version": "2.4.0"
  }
 },
 "nbformat": 4,
 "nbformat_minor": 5
}
